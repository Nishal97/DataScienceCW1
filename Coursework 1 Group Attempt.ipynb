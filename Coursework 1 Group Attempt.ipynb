{
 "cells": [
  {
   "cell_type": "markdown",
   "metadata": {
    "id": "Jyg20NBItgPM"
   },
   "source": [
    "# **Group 2**\n",
    "\n",
    "# Anjali Gurung, Natalie Dixon, Nishal Dave, Wei Dai"
   ]
  },
  {
   "cell_type": "code",
   "execution_count": 1,
   "metadata": {
    "id": "YS63bIh-Qs8r"
   },
   "outputs": [],
   "source": [
    "#Importing relevant libraries\n",
    "\n",
    "import numpy as np\n",
    "import pandas as pd\n",
    "import matplotlib.pyplot as plt\n",
    "import seaborn as sns"
   ]
  },
  {
   "cell_type": "markdown",
   "metadata": {
    "id": "cobrD4eclHF4"
   },
   "source": [
    "# $(a)$"
   ]
  },
  {
   "cell_type": "code",
   "execution_count": 2,
   "metadata": {
    "colab": {
     "base_uri": "https://localhost:8080/",
     "height": 669
    },
    "id": "RTsEBr9Qly0j",
    "outputId": "4a0e0f48-67e3-4127-8c7e-97aeeabf5e2e"
   },
   "outputs": [
    {
     "data": {
      "text/html": [
       "<div>\n",
       "<style scoped>\n",
       "    .dataframe tbody tr th:only-of-type {\n",
       "        vertical-align: middle;\n",
       "    }\n",
       "\n",
       "    .dataframe tbody tr th {\n",
       "        vertical-align: top;\n",
       "    }\n",
       "\n",
       "    .dataframe thead th {\n",
       "        text-align: right;\n",
       "    }\n",
       "</style>\n",
       "<table border=\"1\" class=\"dataframe\">\n",
       "  <thead>\n",
       "    <tr style=\"text-align: right;\">\n",
       "      <th></th>\n",
       "      <th>mpg</th>\n",
       "      <th>cylinders</th>\n",
       "      <th>displacement</th>\n",
       "      <th>horsepower</th>\n",
       "      <th>weight</th>\n",
       "      <th>acceleration</th>\n",
       "      <th>year</th>\n",
       "      <th>origin</th>\n",
       "      <th>name</th>\n",
       "    </tr>\n",
       "  </thead>\n",
       "  <tbody>\n",
       "    <tr>\n",
       "      <th>0</th>\n",
       "      <td>18.0</td>\n",
       "      <td>8</td>\n",
       "      <td>307.0</td>\n",
       "      <td>130</td>\n",
       "      <td>3504</td>\n",
       "      <td>12.0</td>\n",
       "      <td>70</td>\n",
       "      <td>1</td>\n",
       "      <td>chevrolet chevelle malibu</td>\n",
       "    </tr>\n",
       "    <tr>\n",
       "      <th>1</th>\n",
       "      <td>15.0</td>\n",
       "      <td>8</td>\n",
       "      <td>350.0</td>\n",
       "      <td>165</td>\n",
       "      <td>3693</td>\n",
       "      <td>11.5</td>\n",
       "      <td>70</td>\n",
       "      <td>1</td>\n",
       "      <td>buick skylark 320</td>\n",
       "    </tr>\n",
       "    <tr>\n",
       "      <th>2</th>\n",
       "      <td>18.0</td>\n",
       "      <td>8</td>\n",
       "      <td>318.0</td>\n",
       "      <td>150</td>\n",
       "      <td>3436</td>\n",
       "      <td>11.0</td>\n",
       "      <td>70</td>\n",
       "      <td>1</td>\n",
       "      <td>plymouth satellite</td>\n",
       "    </tr>\n",
       "    <tr>\n",
       "      <th>3</th>\n",
       "      <td>16.0</td>\n",
       "      <td>8</td>\n",
       "      <td>304.0</td>\n",
       "      <td>150</td>\n",
       "      <td>3433</td>\n",
       "      <td>12.0</td>\n",
       "      <td>70</td>\n",
       "      <td>1</td>\n",
       "      <td>amc rebel sst</td>\n",
       "    </tr>\n",
       "    <tr>\n",
       "      <th>4</th>\n",
       "      <td>17.0</td>\n",
       "      <td>8</td>\n",
       "      <td>302.0</td>\n",
       "      <td>140</td>\n",
       "      <td>3449</td>\n",
       "      <td>10.5</td>\n",
       "      <td>70</td>\n",
       "      <td>1</td>\n",
       "      <td>ford torino</td>\n",
       "    </tr>\n",
       "    <tr>\n",
       "      <th>5</th>\n",
       "      <td>15.0</td>\n",
       "      <td>8</td>\n",
       "      <td>429.0</td>\n",
       "      <td>198</td>\n",
       "      <td>4341</td>\n",
       "      <td>10.0</td>\n",
       "      <td>70</td>\n",
       "      <td>1</td>\n",
       "      <td>ford galaxie 500</td>\n",
       "    </tr>\n",
       "    <tr>\n",
       "      <th>6</th>\n",
       "      <td>14.0</td>\n",
       "      <td>8</td>\n",
       "      <td>454.0</td>\n",
       "      <td>220</td>\n",
       "      <td>4354</td>\n",
       "      <td>9.0</td>\n",
       "      <td>70</td>\n",
       "      <td>1</td>\n",
       "      <td>chevrolet impala</td>\n",
       "    </tr>\n",
       "    <tr>\n",
       "      <th>7</th>\n",
       "      <td>14.0</td>\n",
       "      <td>8</td>\n",
       "      <td>440.0</td>\n",
       "      <td>215</td>\n",
       "      <td>4312</td>\n",
       "      <td>8.5</td>\n",
       "      <td>70</td>\n",
       "      <td>1</td>\n",
       "      <td>plymouth fury iii</td>\n",
       "    </tr>\n",
       "    <tr>\n",
       "      <th>8</th>\n",
       "      <td>14.0</td>\n",
       "      <td>8</td>\n",
       "      <td>455.0</td>\n",
       "      <td>225</td>\n",
       "      <td>4425</td>\n",
       "      <td>10.0</td>\n",
       "      <td>70</td>\n",
       "      <td>1</td>\n",
       "      <td>pontiac catalina</td>\n",
       "    </tr>\n",
       "    <tr>\n",
       "      <th>9</th>\n",
       "      <td>15.0</td>\n",
       "      <td>8</td>\n",
       "      <td>390.0</td>\n",
       "      <td>190</td>\n",
       "      <td>3850</td>\n",
       "      <td>8.5</td>\n",
       "      <td>70</td>\n",
       "      <td>1</td>\n",
       "      <td>amc ambassador dpl</td>\n",
       "    </tr>\n",
       "    <tr>\n",
       "      <th>10</th>\n",
       "      <td>15.0</td>\n",
       "      <td>8</td>\n",
       "      <td>383.0</td>\n",
       "      <td>170</td>\n",
       "      <td>3563</td>\n",
       "      <td>10.0</td>\n",
       "      <td>70</td>\n",
       "      <td>1</td>\n",
       "      <td>dodge challenger se</td>\n",
       "    </tr>\n",
       "    <tr>\n",
       "      <th>11</th>\n",
       "      <td>14.0</td>\n",
       "      <td>8</td>\n",
       "      <td>340.0</td>\n",
       "      <td>160</td>\n",
       "      <td>3609</td>\n",
       "      <td>8.0</td>\n",
       "      <td>70</td>\n",
       "      <td>1</td>\n",
       "      <td>plymouth 'cuda 340</td>\n",
       "    </tr>\n",
       "    <tr>\n",
       "      <th>12</th>\n",
       "      <td>15.0</td>\n",
       "      <td>8</td>\n",
       "      <td>400.0</td>\n",
       "      <td>150</td>\n",
       "      <td>3761</td>\n",
       "      <td>9.5</td>\n",
       "      <td>70</td>\n",
       "      <td>1</td>\n",
       "      <td>chevrolet monte carlo</td>\n",
       "    </tr>\n",
       "    <tr>\n",
       "      <th>13</th>\n",
       "      <td>14.0</td>\n",
       "      <td>8</td>\n",
       "      <td>455.0</td>\n",
       "      <td>225</td>\n",
       "      <td>3086</td>\n",
       "      <td>10.0</td>\n",
       "      <td>70</td>\n",
       "      <td>1</td>\n",
       "      <td>buick estate wagon (sw)</td>\n",
       "    </tr>\n",
       "    <tr>\n",
       "      <th>14</th>\n",
       "      <td>24.0</td>\n",
       "      <td>4</td>\n",
       "      <td>113.0</td>\n",
       "      <td>95</td>\n",
       "      <td>2372</td>\n",
       "      <td>15.0</td>\n",
       "      <td>70</td>\n",
       "      <td>3</td>\n",
       "      <td>toyota corona mark ii</td>\n",
       "    </tr>\n",
       "    <tr>\n",
       "      <th>15</th>\n",
       "      <td>22.0</td>\n",
       "      <td>6</td>\n",
       "      <td>198.0</td>\n",
       "      <td>95</td>\n",
       "      <td>2833</td>\n",
       "      <td>15.5</td>\n",
       "      <td>70</td>\n",
       "      <td>1</td>\n",
       "      <td>plymouth duster</td>\n",
       "    </tr>\n",
       "    <tr>\n",
       "      <th>16</th>\n",
       "      <td>18.0</td>\n",
       "      <td>6</td>\n",
       "      <td>199.0</td>\n",
       "      <td>97</td>\n",
       "      <td>2774</td>\n",
       "      <td>15.5</td>\n",
       "      <td>70</td>\n",
       "      <td>1</td>\n",
       "      <td>amc hornet</td>\n",
       "    </tr>\n",
       "    <tr>\n",
       "      <th>17</th>\n",
       "      <td>21.0</td>\n",
       "      <td>6</td>\n",
       "      <td>200.0</td>\n",
       "      <td>85</td>\n",
       "      <td>2587</td>\n",
       "      <td>16.0</td>\n",
       "      <td>70</td>\n",
       "      <td>1</td>\n",
       "      <td>ford maverick</td>\n",
       "    </tr>\n",
       "    <tr>\n",
       "      <th>18</th>\n",
       "      <td>27.0</td>\n",
       "      <td>4</td>\n",
       "      <td>97.0</td>\n",
       "      <td>88</td>\n",
       "      <td>2130</td>\n",
       "      <td>14.5</td>\n",
       "      <td>70</td>\n",
       "      <td>3</td>\n",
       "      <td>datsun pl510</td>\n",
       "    </tr>\n",
       "    <tr>\n",
       "      <th>19</th>\n",
       "      <td>26.0</td>\n",
       "      <td>4</td>\n",
       "      <td>97.0</td>\n",
       "      <td>46</td>\n",
       "      <td>1835</td>\n",
       "      <td>20.5</td>\n",
       "      <td>70</td>\n",
       "      <td>2</td>\n",
       "      <td>volkswagen 1131 deluxe sedan</td>\n",
       "    </tr>\n",
       "  </tbody>\n",
       "</table>\n",
       "</div>"
      ],
      "text/plain": [
       "     mpg  cylinders  displacement  horsepower  weight  acceleration  year  \\\n",
       "0   18.0          8         307.0         130    3504          12.0    70   \n",
       "1   15.0          8         350.0         165    3693          11.5    70   \n",
       "2   18.0          8         318.0         150    3436          11.0    70   \n",
       "3   16.0          8         304.0         150    3433          12.0    70   \n",
       "4   17.0          8         302.0         140    3449          10.5    70   \n",
       "5   15.0          8         429.0         198    4341          10.0    70   \n",
       "6   14.0          8         454.0         220    4354           9.0    70   \n",
       "7   14.0          8         440.0         215    4312           8.5    70   \n",
       "8   14.0          8         455.0         225    4425          10.0    70   \n",
       "9   15.0          8         390.0         190    3850           8.5    70   \n",
       "10  15.0          8         383.0         170    3563          10.0    70   \n",
       "11  14.0          8         340.0         160    3609           8.0    70   \n",
       "12  15.0          8         400.0         150    3761           9.5    70   \n",
       "13  14.0          8         455.0         225    3086          10.0    70   \n",
       "14  24.0          4         113.0          95    2372          15.0    70   \n",
       "15  22.0          6         198.0          95    2833          15.5    70   \n",
       "16  18.0          6         199.0          97    2774          15.5    70   \n",
       "17  21.0          6         200.0          85    2587          16.0    70   \n",
       "18  27.0          4          97.0          88    2130          14.5    70   \n",
       "19  26.0          4          97.0          46    1835          20.5    70   \n",
       "\n",
       "    origin                          name  \n",
       "0        1     chevrolet chevelle malibu  \n",
       "1        1             buick skylark 320  \n",
       "2        1            plymouth satellite  \n",
       "3        1                 amc rebel sst  \n",
       "4        1                   ford torino  \n",
       "5        1              ford galaxie 500  \n",
       "6        1              chevrolet impala  \n",
       "7        1             plymouth fury iii  \n",
       "8        1              pontiac catalina  \n",
       "9        1            amc ambassador dpl  \n",
       "10       1           dodge challenger se  \n",
       "11       1            plymouth 'cuda 340  \n",
       "12       1         chevrolet monte carlo  \n",
       "13       1       buick estate wagon (sw)  \n",
       "14       3         toyota corona mark ii  \n",
       "15       1               plymouth duster  \n",
       "16       1                    amc hornet  \n",
       "17       1                 ford maverick  \n",
       "18       3                  datsun pl510  \n",
       "19       2  volkswagen 1131 deluxe sedan  "
      ]
     },
     "execution_count": 2,
     "metadata": {},
     "output_type": "execute_result"
    }
   ],
   "source": [
    "#create a DataFrame with the first 20 rows\n",
    "\n",
    "df = pd.read_csv(\"Auto.csv\")\n",
    "DataFrame= df.head(20)\n",
    "DataFrame"
   ]
  },
  {
   "cell_type": "markdown",
   "metadata": {
    "id": "-5TKdr9t5FYD"
   },
   "source": [
    "# $(b)$"
   ]
  },
  {
   "cell_type": "code",
   "execution_count": 3,
   "metadata": {
    "colab": {
     "base_uri": "https://localhost:8080/",
     "height": 297
    },
    "id": "AUydlpB58S5V",
    "outputId": "21c01e58-f8bf-4224-c0f3-1d015d039bcc"
   },
   "outputs": [
    {
     "data": {
      "text/html": [
       "<div>\n",
       "<style scoped>\n",
       "    .dataframe tbody tr th:only-of-type {\n",
       "        vertical-align: middle;\n",
       "    }\n",
       "\n",
       "    .dataframe tbody tr th {\n",
       "        vertical-align: top;\n",
       "    }\n",
       "\n",
       "    .dataframe thead th {\n",
       "        text-align: right;\n",
       "    }\n",
       "</style>\n",
       "<table border=\"1\" class=\"dataframe\">\n",
       "  <thead>\n",
       "    <tr style=\"text-align: right;\">\n",
       "      <th></th>\n",
       "      <th>mean</th>\n",
       "      <th>std</th>\n",
       "      <th>min</th>\n",
       "      <th>max</th>\n",
       "    </tr>\n",
       "  </thead>\n",
       "  <tbody>\n",
       "    <tr>\n",
       "      <th>mpg</th>\n",
       "      <td>23.445918</td>\n",
       "      <td>7.805007</td>\n",
       "      <td>9</td>\n",
       "      <td>46.6</td>\n",
       "    </tr>\n",
       "    <tr>\n",
       "      <th>cylinders</th>\n",
       "      <td>5.471939</td>\n",
       "      <td>1.705783</td>\n",
       "      <td>3</td>\n",
       "      <td>8</td>\n",
       "    </tr>\n",
       "    <tr>\n",
       "      <th>displacement</th>\n",
       "      <td>194.411990</td>\n",
       "      <td>104.644004</td>\n",
       "      <td>68</td>\n",
       "      <td>455</td>\n",
       "    </tr>\n",
       "    <tr>\n",
       "      <th>horsepower</th>\n",
       "      <td>104.469388</td>\n",
       "      <td>38.491160</td>\n",
       "      <td>46</td>\n",
       "      <td>230</td>\n",
       "    </tr>\n",
       "    <tr>\n",
       "      <th>weight</th>\n",
       "      <td>2977.584184</td>\n",
       "      <td>849.402560</td>\n",
       "      <td>1613</td>\n",
       "      <td>5140</td>\n",
       "    </tr>\n",
       "    <tr>\n",
       "      <th>acceleration</th>\n",
       "      <td>15.541327</td>\n",
       "      <td>2.758864</td>\n",
       "      <td>8</td>\n",
       "      <td>24.8</td>\n",
       "    </tr>\n",
       "    <tr>\n",
       "      <th>year</th>\n",
       "      <td>75.979592</td>\n",
       "      <td>3.683737</td>\n",
       "      <td>70</td>\n",
       "      <td>82</td>\n",
       "    </tr>\n",
       "    <tr>\n",
       "      <th>origin</th>\n",
       "      <td>1.576531</td>\n",
       "      <td>0.805518</td>\n",
       "      <td>1</td>\n",
       "      <td>3</td>\n",
       "    </tr>\n",
       "  </tbody>\n",
       "</table>\n",
       "</div>"
      ],
      "text/plain": [
       "                     mean         std   min   max\n",
       "mpg             23.445918    7.805007     9  46.6\n",
       "cylinders        5.471939    1.705783     3     8\n",
       "displacement   194.411990  104.644004    68   455\n",
       "horsepower     104.469388   38.491160    46   230\n",
       "weight        2977.584184  849.402560  1613  5140\n",
       "acceleration    15.541327    2.758864     8  24.8\n",
       "year            75.979592    3.683737    70    82\n",
       "origin           1.576531    0.805518     1     3"
      ]
     },
     "execution_count": 3,
     "metadata": {},
     "output_type": "execute_result"
    }
   ],
   "source": [
    "#summary stats for all variables\n",
    "\n",
    "mean_df = df.mean()\n",
    "std_df = df.std()\n",
    "min_df = df.min()\n",
    "max_df = df.max()\n",
    "DataFrame = pd.concat([mean_df, std_df, min_df, max_df], axis=1)\n",
    "DataFrame = DataFrame.drop(['name'])\n",
    "DataFrame.columns= ['mean','std','min','max']\n",
    "DataFrame"
   ]
  },
  {
   "cell_type": "markdown",
   "metadata": {
    "id": "kdu1mHuRC2v9"
   },
   "source": [
    "# $(c)$"
   ]
  },
  {
   "cell_type": "code",
   "execution_count": 4,
   "metadata": {
    "colab": {
     "base_uri": "https://localhost:8080/",
     "height": 266
    },
    "id": "b0uHrCbfD1CS",
    "outputId": "0c9cddd9-fdc7-41b0-92a0-b47b035156b8"
   },
   "outputs": [
    {
     "data": {
      "text/html": [
       "<div>\n",
       "<style scoped>\n",
       "    .dataframe tbody tr th:only-of-type {\n",
       "        vertical-align: middle;\n",
       "    }\n",
       "\n",
       "    .dataframe tbody tr th {\n",
       "        vertical-align: top;\n",
       "    }\n",
       "\n",
       "    .dataframe thead th {\n",
       "        text-align: right;\n",
       "    }\n",
       "</style>\n",
       "<table border=\"1\" class=\"dataframe\">\n",
       "  <thead>\n",
       "    <tr style=\"text-align: right;\">\n",
       "      <th></th>\n",
       "      <th>mean</th>\n",
       "      <th>std</th>\n",
       "      <th>min</th>\n",
       "      <th>max</th>\n",
       "    </tr>\n",
       "  </thead>\n",
       "  <tbody>\n",
       "    <tr>\n",
       "      <th>mpg</th>\n",
       "      <td>29.283920</td>\n",
       "      <td>5.670546</td>\n",
       "      <td>18</td>\n",
       "      <td>46.6</td>\n",
       "    </tr>\n",
       "    <tr>\n",
       "      <th>displacement</th>\n",
       "      <td>109.670854</td>\n",
       "      <td>21.376813</td>\n",
       "      <td>68</td>\n",
       "      <td>156</td>\n",
       "    </tr>\n",
       "    <tr>\n",
       "      <th>horsepower</th>\n",
       "      <td>78.281407</td>\n",
       "      <td>14.523099</td>\n",
       "      <td>46</td>\n",
       "      <td>115</td>\n",
       "    </tr>\n",
       "    <tr>\n",
       "      <th>weight</th>\n",
       "      <td>2305.110553</td>\n",
       "      <td>342.872223</td>\n",
       "      <td>1613</td>\n",
       "      <td>3270</td>\n",
       "    </tr>\n",
       "    <tr>\n",
       "      <th>acceleration</th>\n",
       "      <td>16.581910</td>\n",
       "      <td>2.383185</td>\n",
       "      <td>11.6</td>\n",
       "      <td>24.8</td>\n",
       "    </tr>\n",
       "    <tr>\n",
       "      <th>year</th>\n",
       "      <td>77.030151</td>\n",
       "      <td>3.737484</td>\n",
       "      <td>70</td>\n",
       "      <td>82</td>\n",
       "    </tr>\n",
       "    <tr>\n",
       "      <th>origin</th>\n",
       "      <td>2.000000</td>\n",
       "      <td>0.834847</td>\n",
       "      <td>1</td>\n",
       "      <td>3</td>\n",
       "    </tr>\n",
       "  </tbody>\n",
       "</table>\n",
       "</div>"
      ],
      "text/plain": [
       "                     mean         std   min   max\n",
       "mpg             29.283920    5.670546    18  46.6\n",
       "displacement   109.670854   21.376813    68   156\n",
       "horsepower      78.281407   14.523099    46   115\n",
       "weight        2305.110553  342.872223  1613  3270\n",
       "acceleration    16.581910    2.383185  11.6  24.8\n",
       "year            77.030151    3.737484    70    82\n",
       "origin           2.000000    0.834847     1     3"
      ]
     },
     "execution_count": 4,
     "metadata": {},
     "output_type": "execute_result"
    }
   ],
   "source": [
    "#C Part 1 - summary stats for 4 cylinders car  \n",
    "\n",
    "df4cyl= (df['cylinders']==4)\n",
    "df[df4cyl]\n",
    "mean_df4cyl = df[df4cyl].mean()\n",
    "std_df4cyl = df[df4cyl].std()\n",
    "min_df4cyl = df[df4cyl].min()\n",
    "max_df4cyl = df[df4cyl].max()\n",
    "DataFrame = pd.concat([mean_df4cyl, std_df4cyl, min_df4cyl, max_df4cyl], axis=1)\n",
    "DataFrame = DataFrame.drop(['name', 'cylinders'])\n",
    "DataFrame.columns= ['mean','std','min','max']\n",
    "DataFrame"
   ]
  },
  {
   "cell_type": "code",
   "execution_count": 5,
   "metadata": {
    "colab": {
     "base_uri": "https://localhost:8080/",
     "height": 266
    },
    "id": "HmlJ3gq6FJFl",
    "outputId": "1397654e-49ff-4ccd-bd34-dfcb50e73ad8"
   },
   "outputs": [
    {
     "data": {
      "text/html": [
       "<div>\n",
       "<style scoped>\n",
       "    .dataframe tbody tr th:only-of-type {\n",
       "        vertical-align: middle;\n",
       "    }\n",
       "\n",
       "    .dataframe tbody tr th {\n",
       "        vertical-align: top;\n",
       "    }\n",
       "\n",
       "    .dataframe thead th {\n",
       "        text-align: right;\n",
       "    }\n",
       "</style>\n",
       "<table border=\"1\" class=\"dataframe\">\n",
       "  <thead>\n",
       "    <tr style=\"text-align: right;\">\n",
       "      <th></th>\n",
       "      <th>mean</th>\n",
       "      <th>std</th>\n",
       "      <th>min</th>\n",
       "      <th>max</th>\n",
       "    </tr>\n",
       "  </thead>\n",
       "  <tbody>\n",
       "    <tr>\n",
       "      <th>mpg</th>\n",
       "      <td>14.963107</td>\n",
       "      <td>2.836284</td>\n",
       "      <td>9</td>\n",
       "      <td>26.6</td>\n",
       "    </tr>\n",
       "    <tr>\n",
       "      <th>displacement</th>\n",
       "      <td>345.009709</td>\n",
       "      <td>46.776376</td>\n",
       "      <td>260</td>\n",
       "      <td>455</td>\n",
       "    </tr>\n",
       "    <tr>\n",
       "      <th>horsepower</th>\n",
       "      <td>158.300971</td>\n",
       "      <td>28.453552</td>\n",
       "      <td>90</td>\n",
       "      <td>230</td>\n",
       "    </tr>\n",
       "    <tr>\n",
       "      <th>weight</th>\n",
       "      <td>4114.718447</td>\n",
       "      <td>448.833159</td>\n",
       "      <td>3086</td>\n",
       "      <td>5140</td>\n",
       "    </tr>\n",
       "    <tr>\n",
       "      <th>acceleration</th>\n",
       "      <td>12.955340</td>\n",
       "      <td>2.224759</td>\n",
       "      <td>8</td>\n",
       "      <td>22.2</td>\n",
       "    </tr>\n",
       "    <tr>\n",
       "      <th>year</th>\n",
       "      <td>73.902913</td>\n",
       "      <td>3.021214</td>\n",
       "      <td>70</td>\n",
       "      <td>81</td>\n",
       "    </tr>\n",
       "    <tr>\n",
       "      <th>origin</th>\n",
       "      <td>1.000000</td>\n",
       "      <td>0.000000</td>\n",
       "      <td>1</td>\n",
       "      <td>1</td>\n",
       "    </tr>\n",
       "  </tbody>\n",
       "</table>\n",
       "</div>"
      ],
      "text/plain": [
       "                     mean         std   min   max\n",
       "mpg             14.963107    2.836284     9  26.6\n",
       "displacement   345.009709   46.776376   260   455\n",
       "horsepower     158.300971   28.453552    90   230\n",
       "weight        4114.718447  448.833159  3086  5140\n",
       "acceleration    12.955340    2.224759     8  22.2\n",
       "year            73.902913    3.021214    70    81\n",
       "origin           1.000000    0.000000     1     1"
      ]
     },
     "execution_count": 5,
     "metadata": {},
     "output_type": "execute_result"
    }
   ],
   "source": [
    "#C part 2 - summary stats for 8 cylinders car \n",
    "\n",
    "df8cyl= (df['cylinders']==8)\n",
    "df[df8cyl]\n",
    "mean_df8cyl = df[df8cyl].mean()\n",
    "std_df8cyl = df[df8cyl].std()\n",
    "min_df8cyl = df[df8cyl].min()\n",
    "max_df8cyl = df[df8cyl].max()\n",
    "DataFrame = pd.concat([mean_df8cyl, std_df8cyl, min_df8cyl, max_df8cyl], axis=1)\n",
    "DataFrame = DataFrame.drop(['name', 'cylinders'])\n",
    "DataFrame.columns= ['mean','std','min','max']\n",
    "DataFrame"
   ]
  },
  {
   "cell_type": "markdown",
   "metadata": {
    "id": "2y37ULr_KbcZ"
   },
   "source": [
    "# $(d)$"
   ]
  },
  {
   "cell_type": "code",
   "execution_count": 6,
   "metadata": {
    "colab": {
     "base_uri": "https://localhost:8080/",
     "height": 459
    },
    "id": "aK8FCVG5KuVb",
    "outputId": "1e637583-d05d-40fc-831e-4fa0b880817f"
   },
   "outputs": [
    {
     "data": {
      "text/plain": [
       "<matplotlib.axes._subplots.AxesSubplot at 0x1b1558294c8>"
      ]
     },
     "execution_count": 6,
     "metadata": {},
     "output_type": "execute_result"
    },
    {
     "data": {
      "image/png": "[encoded data removed]",
      "text/plain": [
       "<Figure size 360x360 with 1 Axes>"
      ]
     },
     "metadata": {
      "needs_background": "light"
     },
     "output_type": "display_data"
    }
   ],
   "source": [
    "f,ax=plt.subplots(figsize=(5, 5))\n",
    "sns.boxplot(x=\"cylinders\", y=\"weight\", data=df)"
   ]
  },
  {
   "cell_type": "markdown",
   "metadata": {
    "id": "ka0_lAzLK37Q"
   },
   "source": [
    "Part (d) discussion:\n",
    "\n",
    "The mean weight of cars with 4 cylinders is less than the mean weight of cars with 8 cylinders. Cars with more number of cylinders weigh more than cars with less cylinders. The boxplot figure above helps visualise this relationship more clearly - as the number of cylinders increase for the cars in our sample, their weight also increases. This relationship is less clear for cars with 3 cylinders; they seem to have higher average weight than 4 cylinder cars. However, this could partly be because of the low number of 3 cylinder car observations in our sample. The swarmplot below shows the number of observations for all the cars. We only have 4 observations for 3 cylinder cars ( denoted by blue dots). \n",
    "\n",
    "Standard Deviation for cars with 8 cylinders is higher than cars with 4 cylinders. This means that the data points for 8 cylinder cars are spread over a large range of values. However a simple comparison for the numbers does not give the full story - 4 cylinder cars seem to be more right-skewed as the top whiskers are longer than the bottom whiskers. Cars with 8 cylinders look more balanced in comparison as the top and bottom whiskers seem to be of similar length.\n",
    "\n",
    "\n"
   ]
  },
  {
   "cell_type": "code",
   "execution_count": 7,
   "metadata": {
    "colab": {
     "base_uri": "https://localhost:8080/",
     "height": 493
    },
    "id": "4_75QuRHrPlw",
    "outputId": "eed478c1-8d82-4d79-dd09-0f6f1c36b3ba"
   },
   "outputs": [
    {
     "data": {
      "text/plain": [
       "<matplotlib.axes._subplots.AxesSubplot at 0x1b1559a5148>"
      ]
     },
     "execution_count": 7,
     "metadata": {},
     "output_type": "execute_result"
    },
    {
     "data": {
      "image/png": "[encoded data removed]",
      "text/plain": [
       "<Figure size 360x360 with 1 Axes>"
      ]
     },
     "metadata": {
      "needs_background": "light"
     },
     "output_type": "display_data"
    }
   ],
   "source": [
    "#swarmplot to show the number of observations\n",
    "\n",
    "f,ax=plt.subplots(figsize=(5, 5))\n",
    "sns.swarmplot(x=\"cylinders\", y=\"weight\", data=df)"
   ]
  },
  {
   "cell_type": "markdown",
   "metadata": {
    "id": "hz8AX5D5t2JO"
   },
   "source": [
    "# $(e)$"
   ]
  },
  {
   "cell_type": "code",
   "execution_count": 8,
   "metadata": {
    "colab": {
     "base_uri": "https://localhost:8080/",
     "height": 530
    },
    "id": "CbhmjkwrRWjD",
    "outputId": "ec0e57d2-3e08-44fd-c712-63bc4b034e0f"
   },
   "outputs": [
    {
     "data": {
      "image/png": "[encoded data removed]",
      "text/plain": [
       "<Figure size 360x360 with 1 Axes>"
      ]
     },
     "metadata": {
      "needs_background": "light"
     },
     "output_type": "display_data"
    }
   ],
   "source": [
    "#Plotting the probability distribution of the weights conditional upon different number of cylinders\n",
    "\n",
    "df4cyl=df[df['cylinders']==4]\n",
    "df8cyl=df[df['cylinders']==8]\n",
    "\n",
    "f,ax=plt.subplots(figsize=(5, 5))\n",
    "sns.distplot(df4cyl[\"weight\"],label=\"4 Cylinders\")\n",
    "sns.distplot(df8cyl[\"weight\"],label=\"8 Cylinders\")\n",
    "plt.legend();"
   ]
  },
  {
   "cell_type": "code",
   "execution_count": 9,
   "metadata": {
    "colab": {
     "base_uri": "https://localhost:8080/",
     "height": 530
    },
    "id": "gp_X_FvPtRJb",
    "outputId": "6ffbb12f-5c25-406f-c451-244096a6ec83"
   },
   "outputs": [
    {
     "data": {
      "image/png": "[encoded data removed]",
      "text/plain": [
       "<Figure size 360x360 with 1 Axes>"
      ]
     },
     "metadata": {
      "needs_background": "light"
     },
     "output_type": "display_data"
    }
   ],
   "source": [
    "#Plotting the cumulative distribution of the weights conditional upon different number of cylinders\n",
    "\n",
    "f,ax=plt.subplots(figsize=(5, 5))\n",
    "sns.distplot(df4cyl[\"weight\"], \n",
    "             hist_kws={'cumulative': True, 'density': True}, \n",
    "             kde_kws={'cumulative': True},\n",
    "             label=\"4 Cylinders\")\n",
    "sns.distplot(df8cyl[\"weight\"], \n",
    "             hist_kws={'cumulative': True, 'density': True}, \n",
    "             kde_kws={'cumulative': True},\n",
    "             label=\"8 Cylinders\")\n",
    "plt.legend();"
   ]
  },
  {
   "cell_type": "markdown",
   "metadata": {
    "id": "YIiCvzf4iz2K"
   },
   "source": [
    "# $(f)$"
   ]
  },
  {
   "cell_type": "markdown",
   "metadata": {
    "id": "TFfNq9QYnRJz"
   },
   "source": [
    "Part (e) discussion:\n",
    "\n",
    "The histograms for weight give us more insight into the distribution of observed weights. The distribution of weights for cars with 4 cylinders is right skewed, meaning that we have a larger range of values above the mean and that the maximum weight is further from the mean than the minimum weight. We can also see that the frequency distribution line increases rapidly, then decreases afterwards with a slight plateau in one area, showing that the frequency distribution is not changing at a constant rate across all weights. These points are reemphasised with the cumulative density plot. We can see that this function increases more rapidly and has more severe curves at each end than the curve for 8 cylinder cars. The distances between the peak of each bar and the cumulative distribution function vary more, highlighting the less constant increase of the probability density function.\n",
    "\n",
    "The distribution of weights for cars with 8 cylinders the distribution is left skewed, meaning that we have a larger range of values that are below the mean and that the minimum weight is further away from the mean than the maximum weight. We can also see that the distribution as a whole is wider on both sides than that of the 4 cylinder cars, due to the larger standard deviation for weights. The frequency distribution line is also free from any flatter sections, showing that the weights increase at a more constant rate than the weights of 4 cylinder cars. Again, this is reemphasised with the cumulative density plot. We can see that this function increases more gradually and has less severe curves at each end than the curve for 4 cylinder cars. The distances between the peak of each bar and the cumulative distribution function vary less, highlighting the more constant increase of the probability density function.\n"
   ]
  },
  {
   "cell_type": "markdown",
   "metadata": {
    "id": "wj3hO1Ymbzde"
   },
   "source": [
    "# $(g)$"
   ]
  },
  {
   "cell_type": "code",
   "execution_count": 10,
   "metadata": {
    "colab": {
     "base_uri": "https://localhost:8080/",
     "height": 266
    },
    "id": "D9MJyGxKb3Yv",
    "outputId": "2ef445c3-ffac-4eb6-82b7-738cc775ec84"
   },
   "outputs": [
    {
     "data": {
      "text/html": [
       "<div>\n",
       "<style scoped>\n",
       "    .dataframe tbody tr th:only-of-type {\n",
       "        vertical-align: middle;\n",
       "    }\n",
       "\n",
       "    .dataframe tbody tr th {\n",
       "        vertical-align: top;\n",
       "    }\n",
       "\n",
       "    .dataframe thead th {\n",
       "        text-align: right;\n",
       "    }\n",
       "</style>\n",
       "<table border=\"1\" class=\"dataframe\">\n",
       "  <thead>\n",
       "    <tr style=\"text-align: right;\">\n",
       "      <th></th>\n",
       "      <th>mean</th>\n",
       "      <th>std</th>\n",
       "      <th>min</th>\n",
       "      <th>max</th>\n",
       "    </tr>\n",
       "  </thead>\n",
       "  <tbody>\n",
       "    <tr>\n",
       "      <th>cylinders</th>\n",
       "      <td>4.120482</td>\n",
       "      <td>0.513988</td>\n",
       "      <td>4.0</td>\n",
       "      <td>8.0</td>\n",
       "    </tr>\n",
       "    <tr>\n",
       "      <th>displacement</th>\n",
       "      <td>110.966867</td>\n",
       "      <td>32.968862</td>\n",
       "      <td>68.0</td>\n",
       "      <td>350.0</td>\n",
       "    </tr>\n",
       "    <tr>\n",
       "      <th>horsepower</th>\n",
       "      <td>76.512048</td>\n",
       "      <td>15.002116</td>\n",
       "      <td>46.0</td>\n",
       "      <td>132.0</td>\n",
       "    </tr>\n",
       "    <tr>\n",
       "      <th>weight</th>\n",
       "      <td>2276.638554</td>\n",
       "      <td>371.602527</td>\n",
       "      <td>1613.0</td>\n",
       "      <td>3725.0</td>\n",
       "    </tr>\n",
       "    <tr>\n",
       "      <th>acceleration</th>\n",
       "      <td>16.521084</td>\n",
       "      <td>2.458598</td>\n",
       "      <td>11.3</td>\n",
       "      <td>24.8</td>\n",
       "    </tr>\n",
       "    <tr>\n",
       "      <th>year</th>\n",
       "      <td>77.909639</td>\n",
       "      <td>3.602730</td>\n",
       "      <td>70.0</td>\n",
       "      <td>82.0</td>\n",
       "    </tr>\n",
       "    <tr>\n",
       "      <th>origin</th>\n",
       "      <td>2.018072</td>\n",
       "      <td>0.849049</td>\n",
       "      <td>1.0</td>\n",
       "      <td>3.0</td>\n",
       "    </tr>\n",
       "  </tbody>\n",
       "</table>\n",
       "</div>"
      ],
      "text/plain": [
       "                     mean         std     min     max\n",
       "cylinders        4.120482    0.513988     4.0     8.0\n",
       "displacement   110.966867   32.968862    68.0   350.0\n",
       "horsepower      76.512048   15.002116    46.0   132.0\n",
       "weight        2276.638554  371.602527  1613.0  3725.0\n",
       "acceleration    16.521084    2.458598    11.3    24.8\n",
       "year            77.909639    3.602730    70.0    82.0\n",
       "origin           2.018072    0.849049     1.0     3.0"
      ]
     },
     "execution_count": 10,
     "metadata": {},
     "output_type": "execute_result"
    }
   ],
   "source": [
    "gr25mpg=df[df[\"mpg\"]>=25]\n",
    "gr25mpgstats=(gr25mpg.describe()).T\n",
    "gr25mpgstats.drop(\"mpg\",inplace=True)\n",
    "gr25mpgstats.drop(columns=[\"count\",\"25%\",\"50%\",\"75%\"],inplace=True)\n",
    "gr25mpgstats"
   ]
  },
  {
   "cell_type": "code",
   "execution_count": 11,
   "metadata": {
    "colab": {
     "base_uri": "https://localhost:8080/",
     "height": 266
    },
    "id": "T9xvyeUodEtC",
    "outputId": "98dbf820-d33c-4d20-e442-7b675f9f1be8"
   },
   "outputs": [
    {
     "data": {
      "text/html": [
       "<div>\n",
       "<style scoped>\n",
       "    .dataframe tbody tr th:only-of-type {\n",
       "        vertical-align: middle;\n",
       "    }\n",
       "\n",
       "    .dataframe tbody tr th {\n",
       "        vertical-align: top;\n",
       "    }\n",
       "\n",
       "    .dataframe thead th {\n",
       "        text-align: right;\n",
       "    }\n",
       "</style>\n",
       "<table border=\"1\" class=\"dataframe\">\n",
       "  <thead>\n",
       "    <tr style=\"text-align: right;\">\n",
       "      <th></th>\n",
       "      <th>mean</th>\n",
       "      <th>std</th>\n",
       "      <th>min</th>\n",
       "      <th>max</th>\n",
       "    </tr>\n",
       "  </thead>\n",
       "  <tbody>\n",
       "    <tr>\n",
       "      <th>cylinders</th>\n",
       "      <td>6.464602</td>\n",
       "      <td>1.589153</td>\n",
       "      <td>3.0</td>\n",
       "      <td>8.0</td>\n",
       "    </tr>\n",
       "    <tr>\n",
       "      <th>displacement</th>\n",
       "      <td>255.703540</td>\n",
       "      <td>96.548690</td>\n",
       "      <td>70.0</td>\n",
       "      <td>455.0</td>\n",
       "    </tr>\n",
       "    <tr>\n",
       "      <th>horsepower</th>\n",
       "      <td>125.004425</td>\n",
       "      <td>37.541621</td>\n",
       "      <td>54.0</td>\n",
       "      <td>230.0</td>\n",
       "    </tr>\n",
       "    <tr>\n",
       "      <th>weight</th>\n",
       "      <td>3492.438053</td>\n",
       "      <td>723.722407</td>\n",
       "      <td>2108.0</td>\n",
       "      <td>5140.0</td>\n",
       "    </tr>\n",
       "    <tr>\n",
       "      <th>acceleration</th>\n",
       "      <td>14.821681</td>\n",
       "      <td>2.750567</td>\n",
       "      <td>8.0</td>\n",
       "      <td>23.5</td>\n",
       "    </tr>\n",
       "    <tr>\n",
       "      <th>year</th>\n",
       "      <td>74.561947</td>\n",
       "      <td>3.048958</td>\n",
       "      <td>70.0</td>\n",
       "      <td>82.0</td>\n",
       "    </tr>\n",
       "    <tr>\n",
       "      <th>origin</th>\n",
       "      <td>1.252212</td>\n",
       "      <td>0.591134</td>\n",
       "      <td>1.0</td>\n",
       "      <td>3.0</td>\n",
       "    </tr>\n",
       "  </tbody>\n",
       "</table>\n",
       "</div>"
      ],
      "text/plain": [
       "                     mean         std     min     max\n",
       "cylinders        6.464602    1.589153     3.0     8.0\n",
       "displacement   255.703540   96.548690    70.0   455.0\n",
       "horsepower     125.004425   37.541621    54.0   230.0\n",
       "weight        3492.438053  723.722407  2108.0  5140.0\n",
       "acceleration    14.821681    2.750567     8.0    23.5\n",
       "year            74.561947    3.048958    70.0    82.0\n",
       "origin           1.252212    0.591134     1.0     3.0"
      ]
     },
     "execution_count": 11,
     "metadata": {},
     "output_type": "execute_result"
    }
   ],
   "source": [
    "lt25mpg=df[df[\"mpg\"]<25]\n",
    "lt25mpgstats=(lt25mpg.describe()).T\n",
    "lt25mpgstats.drop(\"mpg\",inplace=True)\n",
    "lt25mpgstats.drop(columns=[\"count\",\"25%\",\"50%\",\"75%\"],inplace=True)\n",
    "lt25mpgstats"
   ]
  },
  {
   "cell_type": "code",
   "execution_count": 12,
   "metadata": {
    "colab": {
     "base_uri": "https://localhost:8080/",
     "height": 547
    },
    "id": "PEdPdweRdFuC",
    "outputId": "6a47773c-0dda-4609-fa25-9abec7ded59b"
   },
   "outputs": [
    {
     "data": {
      "text/plain": [
       "<matplotlib.legend.Legend at 0x1b155bde488>"
      ]
     },
     "execution_count": 12,
     "metadata": {},
     "output_type": "execute_result"
    },
    {
     "data": {
      "image/png": "[encoded data removed]",
      "text/plain": [
       "<Figure size 360x360 with 1 Axes>"
      ]
     },
     "metadata": {
      "needs_background": "light"
     },
     "output_type": "display_data"
    }
   ],
   "source": [
    "#Plotting the probability distribution of the weights conditional upon different classes of fuel efficiency\n",
    "\n",
    "f,ax=plt.subplots(figsize=(5, 5))\n",
    "sns.distplot(lt25mpg[\"weight\"],label=\"Lesser than 25mpg\")\n",
    "sns.distplot(gr25mpg[\"weight\"],label=\"Greater than 25mpg\")\n",
    "plt.legend()"
   ]
  },
  {
   "cell_type": "code",
   "execution_count": 13,
   "metadata": {
    "colab": {
     "base_uri": "https://localhost:8080/",
     "height": 530
    },
    "id": "4W9xBxmhos7f",
    "outputId": "f21b55de-2e34-4e0e-d0d1-073ede86b85f"
   },
   "outputs": [
    {
     "data": {
      "image/png": "[encoded data removed]",
      "text/plain": [
       "<Figure size 360x360 with 1 Axes>"
      ]
     },
     "metadata": {
      "needs_background": "light"
     },
     "output_type": "display_data"
    }
   ],
   "source": [
    "#Plotting the cumulative distribution of the weights conditional upon different classes of fuel efficiency\n",
    "\n",
    "f,ax=plt.subplots(figsize=(5, 5))\n",
    "sns.distplot(lt25mpg[\"weight\"], \n",
    "             hist_kws={'cumulative': True, 'density': True}, \n",
    "             kde_kws={'cumulative': True},\n",
    "             label=\"Lesser than 25 mpg\")\n",
    "sns.distplot(gr25mpg[\"weight\"], \n",
    "             hist_kws={'cumulative': True, 'density': True}, \n",
    "             kde_kws={'cumulative': True},\n",
    "             label=\"Greater than 25mpg\")\n",
    "\n",
    "plt.legend();"
   ]
  },
  {
   "cell_type": "markdown",
   "metadata": {
    "id": "E-D4798sc9-U"
   },
   "source": [
    "# $(h)$"
   ]
  },
  {
   "cell_type": "code",
   "execution_count": 14,
   "metadata": {
    "colab": {
     "base_uri": "https://localhost:8080/",
     "height": 459
    },
    "id": "CRVfryS0IdSt",
    "outputId": "6b017ada-8ea3-4433-ff3a-9a06ad13274d"
   },
   "outputs": [
    {
     "data": {
      "text/plain": [
       "<matplotlib.legend.Legend at 0x1b155d19a48>"
      ]
     },
     "execution_count": 14,
     "metadata": {},
     "output_type": "execute_result"
    },
    {
     "data": {
      "image/png": "[encoded data removed]",
      "text/plain": [
       "<Figure size 360x360 with 1 Axes>"
      ]
     },
     "metadata": {
      "needs_background": "light"
     },
     "output_type": "display_data"
    }
   ],
   "source": [
    "#Plotting a scatterplot to describe the relationship between fuel efficiency and weight.\n",
    "\n",
    "f,ax=plt.subplots(figsize=(5, 5))\n",
    "sns.scatterplot(x=lt25mpg[\"weight\"],y=lt25mpg[\"mpg\"],label=\"Lesser than 25mpg\")\n",
    "sns.scatterplot(x=gr25mpg[\"weight\"],y=gr25mpg[\"mpg\"],label=\"Greater than 25mpg\")\n",
    "plt.legend()"
   ]
  },
  {
   "cell_type": "markdown",
   "metadata": {
    "id": "VcpgKEfXdOSb"
   },
   "source": [
    "Part (g) discussion:\n",
    "\n",
    "The first conclusion to draw from the data is that heavier cars have worse fuel economy on average. This is plausible as as a heavier vehicle requires more energy to achieve the same speed compared to its lighter counterpart, which results in a lower mpg value.\n",
    "\n",
    "There exists a smaller standard deviation for more efficient cars compared to less efficient cars, this could be due to more efficient cars having more economical and smaller engines which contributes to the lower weight and subsequent higher mpg. Naturally there would be less deviation from the mean, since further increases in weight of the car may put it in the \"lesser than 25mpg\" sub-sample, due to losses in efficiency incurred by a gain in weight.\n",
    "\n",
    "Subsequently the frequency density for more efficient cars has a leptokurtic shape which could imply that there is a greater degree of homogeneity in this class of vehicle compared to the less efficient cars which have a wide deviation across the range of weights. Therefore, looking at the distribution for less efficient cars, it is clear that there is far more variation in weight, given a standard deviation nearly twice that of the more efficient cars. Cars in this sub-sample can range from low-weight, high power performance cars to heavier general purpose vehicles, both which share the characteristic of having lower fuel economy.\n",
    "\n",
    "The cumulative distribution functions are quite different for both classes of cars. The \"Greater than 25mpg\" class has a steep incline compared to the \"Lesser than 25mpg\" class, this emphasises the small standard deviation for the more efficient vehicles. Despite this, it is now clearer to see the overlap in the CDF's, implying that some cars which have the same weight will have different levels of efficiency, this could be due to the reasons mentioned previously.\n",
    "\n",
    "From observing the scatterplot as there is a distinct negative association between the mpg and the weight of the cars, this relationship is in line with the analysis made above. There exist a handful of outlying variables, some which have a higher level of mpg in relation to their weight and vice versa, which could be representative of observations that are capture in the overlap of the distribution functions.\n",
    "\n",
    "\n",
    "\n",
    "\n"
   ]
  },
  {
   "cell_type": "markdown",
   "metadata": {
    "id": "C6RpVtSK6CK5"
   },
   "source": [
    "# $(i)$"
   ]
  },
  {
   "cell_type": "code",
   "execution_count": 15,
   "metadata": {
    "colab": {
     "base_uri": "https://localhost:8080/",
     "height": 173
    },
    "id": "o8ffW91a6fP6",
    "outputId": "225db78f-cb91-4b4f-d5f1-d51bbba2c628"
   },
   "outputs": [
    {
     "data": {
      "text/html": [
       "<div>\n",
       "<style scoped>\n",
       "    .dataframe tbody tr th:only-of-type {\n",
       "        vertical-align: middle;\n",
       "    }\n",
       "\n",
       "    .dataframe tbody tr th {\n",
       "        vertical-align: top;\n",
       "    }\n",
       "\n",
       "    .dataframe thead th {\n",
       "        text-align: right;\n",
       "    }\n",
       "</style>\n",
       "<table border=\"1\" class=\"dataframe\">\n",
       "  <thead>\n",
       "    <tr style=\"text-align: right;\">\n",
       "      <th></th>\n",
       "      <th>mpg</th>\n",
       "      <th>cylinders</th>\n",
       "      <th>displacement</th>\n",
       "      <th>horsepower</th>\n",
       "      <th>weight</th>\n",
       "      <th>acceleration</th>\n",
       "      <th>year</th>\n",
       "      <th>origin</th>\n",
       "      <th>name</th>\n",
       "    </tr>\n",
       "  </thead>\n",
       "  <tbody>\n",
       "    <tr>\n",
       "      <th>17</th>\n",
       "      <td>21.0</td>\n",
       "      <td>6</td>\n",
       "      <td>200.0</td>\n",
       "      <td>85</td>\n",
       "      <td>2587</td>\n",
       "      <td>16.0</td>\n",
       "      <td>70</td>\n",
       "      <td>1</td>\n",
       "      <td>ford maverick</td>\n",
       "    </tr>\n",
       "    <tr>\n",
       "      <th>99</th>\n",
       "      <td>18.0</td>\n",
       "      <td>6</td>\n",
       "      <td>250.0</td>\n",
       "      <td>88</td>\n",
       "      <td>3021</td>\n",
       "      <td>16.5</td>\n",
       "      <td>73</td>\n",
       "      <td>1</td>\n",
       "      <td>ford maverick</td>\n",
       "    </tr>\n",
       "    <tr>\n",
       "      <th>153</th>\n",
       "      <td>15.0</td>\n",
       "      <td>6</td>\n",
       "      <td>250.0</td>\n",
       "      <td>72</td>\n",
       "      <td>3158</td>\n",
       "      <td>19.5</td>\n",
       "      <td>75</td>\n",
       "      <td>1</td>\n",
       "      <td>ford maverick</td>\n",
       "    </tr>\n",
       "    <tr>\n",
       "      <th>191</th>\n",
       "      <td>24.0</td>\n",
       "      <td>6</td>\n",
       "      <td>200.0</td>\n",
       "      <td>81</td>\n",
       "      <td>3012</td>\n",
       "      <td>17.6</td>\n",
       "      <td>76</td>\n",
       "      <td>1</td>\n",
       "      <td>ford maverick</td>\n",
       "    </tr>\n",
       "  </tbody>\n",
       "</table>\n",
       "</div>"
      ],
      "text/plain": [
       "      mpg  cylinders  displacement  horsepower  weight  acceleration  year  \\\n",
       "17   21.0          6         200.0          85    2587          16.0    70   \n",
       "99   18.0          6         250.0          88    3021          16.5    73   \n",
       "153  15.0          6         250.0          72    3158          19.5    75   \n",
       "191  24.0          6         200.0          81    3012          17.6    76   \n",
       "\n",
       "     origin           name  \n",
       "17        1  ford maverick  \n",
       "99        1  ford maverick  \n",
       "153       1  ford maverick  \n",
       "191       1  ford maverick  "
      ]
     },
     "execution_count": 15,
     "metadata": {},
     "output_type": "execute_result"
    }
   ],
   "source": [
    "#Filtering for Ford Mavericks in the dataset\n",
    "\n",
    "dfford = df[df['name']=='ford maverick']\n",
    "dfford"
   ]
  },
  {
   "cell_type": "code",
   "execution_count": 16,
   "metadata": {
    "colab": {
     "base_uri": "https://localhost:8080/",
     "height": 297
    },
    "id": "5vWlIlaIrzCh",
    "outputId": "cb87b67c-13de-4352-87cc-cba23df4ddf2"
   },
   "outputs": [
    {
     "data": {
      "text/html": [
       "<div>\n",
       "<style scoped>\n",
       "    .dataframe tbody tr th:only-of-type {\n",
       "        vertical-align: middle;\n",
       "    }\n",
       "\n",
       "    .dataframe tbody tr th {\n",
       "        vertical-align: top;\n",
       "    }\n",
       "\n",
       "    .dataframe thead th {\n",
       "        text-align: right;\n",
       "    }\n",
       "</style>\n",
       "<table border=\"1\" class=\"dataframe\">\n",
       "  <thead>\n",
       "    <tr style=\"text-align: right;\">\n",
       "      <th></th>\n",
       "      <th>mean</th>\n",
       "      <th>min</th>\n",
       "      <th>max</th>\n",
       "    </tr>\n",
       "  </thead>\n",
       "  <tbody>\n",
       "    <tr>\n",
       "      <th>mpg</th>\n",
       "      <td>19.5</td>\n",
       "      <td>15</td>\n",
       "      <td>24</td>\n",
       "    </tr>\n",
       "    <tr>\n",
       "      <th>cylinders</th>\n",
       "      <td>6.0</td>\n",
       "      <td>6</td>\n",
       "      <td>6</td>\n",
       "    </tr>\n",
       "    <tr>\n",
       "      <th>displacement</th>\n",
       "      <td>225.0</td>\n",
       "      <td>200</td>\n",
       "      <td>250</td>\n",
       "    </tr>\n",
       "    <tr>\n",
       "      <th>horsepower</th>\n",
       "      <td>81.5</td>\n",
       "      <td>72</td>\n",
       "      <td>88</td>\n",
       "    </tr>\n",
       "    <tr>\n",
       "      <th>weight</th>\n",
       "      <td>2944.5</td>\n",
       "      <td>2587</td>\n",
       "      <td>3158</td>\n",
       "    </tr>\n",
       "    <tr>\n",
       "      <th>acceleration</th>\n",
       "      <td>17.4</td>\n",
       "      <td>16</td>\n",
       "      <td>19.5</td>\n",
       "    </tr>\n",
       "    <tr>\n",
       "      <th>year</th>\n",
       "      <td>73.5</td>\n",
       "      <td>70</td>\n",
       "      <td>76</td>\n",
       "    </tr>\n",
       "    <tr>\n",
       "      <th>origin</th>\n",
       "      <td>1.0</td>\n",
       "      <td>1</td>\n",
       "      <td>1</td>\n",
       "    </tr>\n",
       "  </tbody>\n",
       "</table>\n",
       "</div>"
      ],
      "text/plain": [
       "                mean   min   max\n",
       "mpg             19.5    15    24\n",
       "cylinders        6.0     6     6\n",
       "displacement   225.0   200   250\n",
       "horsepower      81.5    72    88\n",
       "weight        2944.5  2587  3158\n",
       "acceleration    17.4    16  19.5\n",
       "year            73.5    70    76\n",
       "origin           1.0     1     1"
      ]
     },
     "execution_count": 16,
     "metadata": {},
     "output_type": "execute_result"
    }
   ],
   "source": [
    "mean_dfford = dfford.mean()\n",
    "min_dfford = dfford.min()\n",
    "max_dfford = dfford.max()\n",
    "DataFrame = pd.concat([mean_dfford,  min_dfford, max_dfford], axis=1)\n",
    "DataFrame = DataFrame.drop(['name'])\n",
    "DataFrame.columns= ['mean','min','max']\n",
    "DataFrame"
   ]
  },
  {
   "cell_type": "markdown",
   "metadata": {
    "id": "cJ4YY6_EdQUb"
   },
   "source": [
    "There are four Ford Mavericks in the dataset. All Ford Mavericks have the same cylinders(6 cylinders) but other specs are different. \n",
    "\n",
    "(1) The Ford Mavericks with  lower mpg indexed at(99 and 153)  have higher weight and higher displacement.\n",
    "\n",
    "(2) The Ford with higher horsepower(17 and 99) has quicker acceleration. \n",
    "\n",
    "(3) The Ford Maverick(191) has the highest mpg; the Ford Maverick(153) has the  lowest mpg and horsepower, the highest weight and acceleration; the Ford Maverick(99) has the highest horsepower; the Ford Maverick(17) has the lowest weight and acceleration."
   ]
  }
 ],
 "metadata": {
  "colab": {
   "collapsed_sections": [],
   "name": "Coursework 1",
   "provenance": [],
   "toc_visible": true
  },
  "kernelspec": {
   "display_name": "Python 3",
   "language": "python",
   "name": "python3"
  },
  "language_info": {
   "codemirror_mode": {
    "name": "ipython",
    "version": 3
   },
   "file_extension": ".py",
   "mimetype": "text/x-python",
   "name": "python",
   "nbconvert_exporter": "python",
   "pygments_lexer": "ipython3",
   "version": "3.7.6"
  }
 },
 "nbformat": 4,
 "nbformat_minor": 1
}
